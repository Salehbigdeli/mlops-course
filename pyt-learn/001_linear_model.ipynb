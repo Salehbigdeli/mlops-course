{
 "cells": [
  {
   "cell_type": "code",
   "execution_count": 1,
   "id": "e3a833f7-84b8-4f86-bebc-94caed27b43d",
   "metadata": {},
   "outputs": [],
   "source": [
    "import torch\n",
    "from torch import nn\n",
    "from torch.utils.data import DataLoader\n",
    "from torchvision import datasets\n",
    "from torchvision.transforms import ToTensor"
   ]
  },
  {
   "cell_type": "code",
   "execution_count": 2,
   "id": "60a48ab2-127e-4986-b176-4291f88248d1",
   "metadata": {},
   "outputs": [
    {
     "name": "stdout",
     "output_type": "stream",
     "text": [
      "Downloading http://fashion-mnist.s3-website.eu-central-1.amazonaws.com/train-images-idx3-ubyte.gz\n",
      "Downloading http://fashion-mnist.s3-website.eu-central-1.amazonaws.com/train-images-idx3-ubyte.gz to data/FashionMNIST/raw/train-images-idx3-ubyte.gz\n"
     ]
    },
    {
     "data": {
      "application/vnd.jupyter.widget-view+json": {
       "model_id": "01e65f2543ba42acbba78e3b542ae354",
       "version_major": 2,
       "version_minor": 0
      },
      "text/plain": [
       "  0%|          | 0/26421880 [00:00<?, ?it/s]"
      ]
     },
     "metadata": {},
     "output_type": "display_data"
    },
    {
     "name": "stdout",
     "output_type": "stream",
     "text": [
      "Extracting data/FashionMNIST/raw/train-images-idx3-ubyte.gz to data/FashionMNIST/raw\n",
      "\n",
      "Downloading http://fashion-mnist.s3-website.eu-central-1.amazonaws.com/train-labels-idx1-ubyte.gz\n",
      "Downloading http://fashion-mnist.s3-website.eu-central-1.amazonaws.com/train-labels-idx1-ubyte.gz to data/FashionMNIST/raw/train-labels-idx1-ubyte.gz\n"
     ]
    },
    {
     "data": {
      "application/vnd.jupyter.widget-view+json": {
       "model_id": "b60a87bd6203471b83cab1ff59d21e2d",
       "version_major": 2,
       "version_minor": 0
      },
      "text/plain": [
       "  0%|          | 0/29515 [00:00<?, ?it/s]"
      ]
     },
     "metadata": {},
     "output_type": "display_data"
    },
    {
     "name": "stdout",
     "output_type": "stream",
     "text": [
      "Extracting data/FashionMNIST/raw/train-labels-idx1-ubyte.gz to data/FashionMNIST/raw\n",
      "\n",
      "Downloading http://fashion-mnist.s3-website.eu-central-1.amazonaws.com/t10k-images-idx3-ubyte.gz\n",
      "Downloading http://fashion-mnist.s3-website.eu-central-1.amazonaws.com/t10k-images-idx3-ubyte.gz to data/FashionMNIST/raw/t10k-images-idx3-ubyte.gz\n"
     ]
    },
    {
     "data": {
      "application/vnd.jupyter.widget-view+json": {
       "model_id": "edfc596a01d44aacbbe94015e1412695",
       "version_major": 2,
       "version_minor": 0
      },
      "text/plain": [
       "  0%|          | 0/4422102 [00:00<?, ?it/s]"
      ]
     },
     "metadata": {},
     "output_type": "display_data"
    },
    {
     "name": "stdout",
     "output_type": "stream",
     "text": [
      "Extracting data/FashionMNIST/raw/t10k-images-idx3-ubyte.gz to data/FashionMNIST/raw\n",
      "\n",
      "Downloading http://fashion-mnist.s3-website.eu-central-1.amazonaws.com/t10k-labels-idx1-ubyte.gz\n",
      "Downloading http://fashion-mnist.s3-website.eu-central-1.amazonaws.com/t10k-labels-idx1-ubyte.gz to data/FashionMNIST/raw/t10k-labels-idx1-ubyte.gz\n"
     ]
    },
    {
     "data": {
      "application/vnd.jupyter.widget-view+json": {
       "model_id": "d3c9dbca667248309f73457e26f85ab5",
       "version_major": 2,
       "version_minor": 0
      },
      "text/plain": [
       "  0%|          | 0/5148 [00:00<?, ?it/s]"
      ]
     },
     "metadata": {},
     "output_type": "display_data"
    },
    {
     "name": "stdout",
     "output_type": "stream",
     "text": [
      "Extracting data/FashionMNIST/raw/t10k-labels-idx1-ubyte.gz to data/FashionMNIST/raw\n",
      "\n"
     ]
    }
   ],
   "source": [
    "train_data = datasets.FashionMNIST(\n",
    "    root='data',\n",
    "    train=True,\n",
    "    download=True,\n",
    "    transform=ToTensor()\n",
    ")\n",
    "test_data = datasets.FashionMNIST(\n",
    "    root='data',\n",
    "    train=False,\n",
    "    download=True,\n",
    "    transform=ToTensor()\n",
    ")"
   ]
  },
  {
   "cell_type": "code",
   "execution_count": 3,
   "id": "180f977b-b153-48f2-b0a7-4f5336d48c0d",
   "metadata": {},
   "outputs": [
    {
     "name": "stdout",
     "output_type": "stream",
     "text": [
      "shape of X: torch.Size([64, 1, 28, 28])\n",
      "shape of y: torch.Size([64])\n"
     ]
    }
   ],
   "source": [
    "batch_size = 32\n",
    "\n",
    "train_loader = DataLoader(train_data, batch_size=batch_size)\n",
    "test_loader = DataLoader(test_data, batch_size=2*batch_size)\n",
    "\n",
    "for x, y in test_loader:\n",
    "    print(f'shape of X: {x.shape}')\n",
    "    print(f'shape of y: {y.shape}')\n",
    "    break\n"
   ]
  },
  {
   "cell_type": "code",
   "execution_count": 4,
   "id": "edc8bcfd-1bb1-46f2-9bba-c791ef8c24cf",
   "metadata": {},
   "outputs": [
    {
     "name": "stdout",
     "output_type": "stream",
     "text": [
      "using cuda\n"
     ]
    }
   ],
   "source": [
    "device = 'cuda' if torch.cuda.is_available() else 'cpu'\n",
    "print('using', device)"
   ]
  },
  {
   "cell_type": "code",
   "execution_count": 5,
   "id": "18d6157f-5c45-42eb-963e-2708113f143f",
   "metadata": {},
   "outputs": [],
   "source": [
    "# model definition\n",
    "\n",
    "class NeuralNet(nn.Module):\n",
    "    def __init__(self):\n",
    "        super().__init__()\n",
    "        self.flatten = nn.Flatten()\n",
    "        self.linear_relu_stack = nn.Sequential(\n",
    "            nn.Linear(28*28, 512),\n",
    "            nn.ReLU(),\n",
    "            nn.Linear(512, 512),\n",
    "            nn.ReLU(),\n",
    "            nn.Linear(512, 10)\n",
    "        )\n",
    "    \n",
    "    def forward(self, x):\n",
    "        x = self.flatten(x)\n",
    "        logits = self.linear_relu_stack(x)\n",
    "        return logits"
   ]
  },
  {
   "cell_type": "code",
   "execution_count": 8,
   "id": "b7fc9b31-97ac-448d-9844-71e827b72cf6",
   "metadata": {},
   "outputs": [
    {
     "name": "stdout",
     "output_type": "stream",
     "text": [
      "NeuralNet(\n",
      "  (flatten): Flatten(start_dim=1, end_dim=-1)\n",
      "  (linear_relu_stack): Sequential(\n",
      "    (0): Linear(in_features=784, out_features=512, bias=True)\n",
      "    (1): ReLU()\n",
      "    (2): Linear(in_features=512, out_features=512, bias=True)\n",
      "    (3): ReLU()\n",
      "    (4): Linear(in_features=512, out_features=10, bias=True)\n",
      "  )\n",
      ")\n"
     ]
    }
   ],
   "source": [
    "model = NeuralNet().to(device)\n",
    "print(model)"
   ]
  },
  {
   "cell_type": "code",
   "execution_count": 9,
   "id": "68c81c8d-7bae-4a1a-ad9f-42fa18bea7a6",
   "metadata": {},
   "outputs": [],
   "source": [
    "loss_fn = nn.CrossEntropyLoss()\n",
    "optimizer = torch.optim.SGD(model.parameters(), lr=1e-3)"
   ]
  },
  {
   "cell_type": "code",
   "execution_count": 10,
   "id": "1d3e7570-d6d2-45e7-81eb-b5d13277b796",
   "metadata": {},
   "outputs": [],
   "source": [
    "def train(dataloader, model, loss_fn, optimizer):\n",
    "    size = len(dataloader.dataset)\n",
    "    model.train()\n",
    "    for batch, (x, y) in enumerate(dataloader):\n",
    "        x, y = x.to(device), y.to(device)\n",
    "        \n",
    "        pred = model(x)\n",
    "        loss = loss_fn(pred, y)\n",
    "        \n",
    "        optimizer.zero_grad()\n",
    "        loss.backward()\n",
    "        optimizer.step()\n",
    "        \n",
    "        if batch % 100 == 0:\n",
    "            loss, current = loss.item(), batch*len(x)\n",
    "            print('loss:', loss, '<->', current,'/',size)"
   ]
  },
  {
   "cell_type": "code",
   "execution_count": 13,
   "id": "3c537e31-c285-4ffa-94d4-a72f762d44a2",
   "metadata": {},
   "outputs": [],
   "source": [
    "def test(dataloader, model, loss_fn):\n",
    "    size = len(dataloader.dataset)\n",
    "    num_batches = len(dataloader)\n",
    "    model.eval()\n",
    "    test_loss, correct = 0, 0\n",
    "    with torch.no_grad():\n",
    "        for x, y in dataloader:\n",
    "            x, y = x.to(device), y.to(device)\n",
    "            pred = model(x)\n",
    "            test_loss += loss_fn(pred, y).item()\n",
    "            correct += (pred.argmax(1) == y).type(torch.float).sum().item()\n",
    "        test_loss /= num_batches\n",
    "        correct /= size\n",
    "        print('acc', correct, 'loss', test_loss)"
   ]
  },
  {
   "cell_type": "code",
   "execution_count": 15,
   "id": "715a45f1-3116-4d3d-a288-ecc8fab146ee",
   "metadata": {},
   "outputs": [
    {
     "name": "stdout",
     "output_type": "stream",
     "text": [
      "loss: 2.3173344135284424 <-> 0 / 60000\n",
      "loss: 2.3126041889190674 <-> 3200 / 60000\n",
      "loss: 2.2894814014434814 <-> 6400 / 60000\n",
      "loss: 2.250173330307007 <-> 9600 / 60000\n",
      "loss: 2.2557995319366455 <-> 12800 / 60000\n",
      "loss: 2.232532501220703 <-> 16000 / 60000\n",
      "loss: 2.2056796550750732 <-> 19200 / 60000\n",
      "loss: 2.194949150085449 <-> 22400 / 60000\n",
      "loss: 2.2077085971832275 <-> 25600 / 60000\n",
      "loss: 2.129730701446533 <-> 28800 / 60000\n",
      "loss: 2.0934345722198486 <-> 32000 / 60000\n",
      "loss: 2.063632011413574 <-> 35200 / 60000\n",
      "loss: 2.1673035621643066 <-> 38400 / 60000\n",
      "loss: 2.067657947540283 <-> 41600 / 60000\n",
      "loss: 2.031996726989746 <-> 44800 / 60000\n",
      "loss: 2.005448341369629 <-> 48000 / 60000\n",
      "loss: 2.093677282333374 <-> 51200 / 60000\n",
      "loss: 1.9797405004501343 <-> 54400 / 60000\n",
      "loss: 1.8924217224121094 <-> 57600 / 60000\n",
      "acc 0.5745 loss 1.8991244940241432\n",
      "loss: 1.8840534687042236 <-> 0 / 60000\n",
      "loss: 1.927475094795227 <-> 3200 / 60000\n",
      "loss: 1.8352545499801636 <-> 6400 / 60000\n",
      "loss: 1.7787264585494995 <-> 9600 / 60000\n",
      "loss: 1.724983811378479 <-> 12800 / 60000\n",
      "loss: 1.7675420045852661 <-> 16000 / 60000\n",
      "loss: 1.6065280437469482 <-> 19200 / 60000\n",
      "loss: 1.572379469871521 <-> 22400 / 60000\n",
      "loss: 1.584651231765747 <-> 25600 / 60000\n",
      "loss: 1.5264909267425537 <-> 28800 / 60000\n",
      "loss: 1.394128680229187 <-> 32000 / 60000\n",
      "loss: 1.3371236324310303 <-> 35200 / 60000\n",
      "loss: 1.5497068166732788 <-> 38400 / 60000\n",
      "loss: 1.3962563276290894 <-> 41600 / 60000\n",
      "loss: 1.3148597478866577 <-> 44800 / 60000\n",
      "loss: 1.2812058925628662 <-> 48000 / 60000\n",
      "loss: 1.3975650072097778 <-> 51200 / 60000\n",
      "loss: 1.3745758533477783 <-> 54400 / 60000\n",
      "loss: 1.1828947067260742 <-> 57600 / 60000\n",
      "acc 0.6359 loss 1.2463890314102173\n",
      "loss: 1.2368987798690796 <-> 0 / 60000\n",
      "loss: 1.2383254766464233 <-> 3200 / 60000\n",
      "loss: 1.224974513053894 <-> 6400 / 60000\n",
      "loss: 1.2754045724868774 <-> 9600 / 60000\n",
      "loss: 1.1274491548538208 <-> 12800 / 60000\n",
      "loss: 1.2958310842514038 <-> 16000 / 60000\n",
      "loss: 1.0266023874282837 <-> 19200 / 60000\n",
      "loss: 1.017525315284729 <-> 22400 / 60000\n",
      "loss: 1.087904691696167 <-> 25600 / 60000\n",
      "loss: 1.1756253242492676 <-> 28800 / 60000\n",
      "loss: 0.9913361072540283 <-> 32000 / 60000\n",
      "loss: 0.939907431602478 <-> 35200 / 60000\n",
      "loss: 1.2169355154037476 <-> 38400 / 60000\n",
      "loss: 1.0550334453582764 <-> 41600 / 60000\n",
      "loss: 0.9912075400352478 <-> 44800 / 60000\n",
      "loss: 0.9118103981018066 <-> 48000 / 60000\n",
      "loss: 1.0421327352523804 <-> 51200 / 60000\n",
      "loss: 1.1418864727020264 <-> 54400 / 60000\n",
      "loss: 0.8886641263961792 <-> 57600 / 60000\n",
      "acc 0.6614 loss 0.9742825646309337\n",
      "loss: 0.9321725368499756 <-> 0 / 60000\n",
      "loss: 0.9631281495094299 <-> 3200 / 60000\n",
      "loss: 0.9688714742660522 <-> 6400 / 60000\n",
      "loss: 1.1043568849563599 <-> 9600 / 60000\n",
      "loss: 0.8743675947189331 <-> 12800 / 60000\n",
      "loss: 1.0926107168197632 <-> 16000 / 60000\n",
      "loss: 0.7901809811592102 <-> 19200 / 60000\n",
      "loss: 0.7763210535049438 <-> 22400 / 60000\n",
      "loss: 0.8823498487472534 <-> 25600 / 60000\n",
      "loss: 1.0698853731155396 <-> 28800 / 60000\n",
      "loss: 0.8210350275039673 <-> 32000 / 60000\n",
      "loss: 0.762503445148468 <-> 35200 / 60000\n",
      "loss: 1.1015608310699463 <-> 38400 / 60000\n",
      "loss: 0.9377371668815613 <-> 41600 / 60000\n",
      "loss: 0.8673052191734314 <-> 44800 / 60000\n",
      "loss: 0.7525738477706909 <-> 48000 / 60000\n",
      "loss: 0.8860667943954468 <-> 51200 / 60000\n",
      "loss: 1.0372002124786377 <-> 54400 / 60000\n",
      "loss: 0.7681131362915039 <-> 57600 / 60000\n",
      "acc 0.6865 loss 0.852170291599954\n",
      "loss: 0.7809506058692932 <-> 0 / 60000\n",
      "loss: 0.859200119972229 <-> 3200 / 60000\n",
      "loss: 0.8444222807884216 <-> 6400 / 60000\n",
      "loss: 0.9963312149047852 <-> 9600 / 60000\n",
      "loss: 0.7529585361480713 <-> 12800 / 60000\n",
      "loss: 0.9932317733764648 <-> 16000 / 60000\n",
      "loss: 0.6745745539665222 <-> 19200 / 60000\n",
      "loss: 0.6473902463912964 <-> 22400 / 60000\n",
      "loss: 0.7769890427589417 <-> 25600 / 60000\n",
      "loss: 1.0163089036941528 <-> 28800 / 60000\n",
      "loss: 0.740513801574707 <-> 32000 / 60000\n",
      "loss: 0.6723321080207825 <-> 35200 / 60000\n",
      "loss: 1.0341452360153198 <-> 38400 / 60000\n",
      "loss: 0.8922581672668457 <-> 41600 / 60000\n",
      "loss: 0.8144170641899109 <-> 44800 / 60000\n",
      "loss: 0.6704616546630859 <-> 48000 / 60000\n",
      "loss: 0.7993655204772949 <-> 51200 / 60000\n",
      "loss: 0.9681825637817383 <-> 54400 / 60000\n",
      "loss: 0.7081677317619324 <-> 57600 / 60000\n",
      "acc 0.7142 loss 0.7824323870194186\n"
     ]
    }
   ],
   "source": [
    "epochs = 5\n",
    "for t in range(epochs):\n",
    "    train(train_loader, model, loss_fn, optimizer)\n",
    "    test(test_loader, model, loss_fn)"
   ]
  },
  {
   "cell_type": "code",
   "execution_count": 16,
   "id": "f0bd471a-7dfa-4999-a99f-676ec3389ca9",
   "metadata": {},
   "outputs": [
    {
     "name": "stdout",
     "output_type": "stream",
     "text": [
      "model saved in model.pth\n"
     ]
    }
   ],
   "source": [
    "model_name = 'model.pth'\n",
    "torch.save(model.state_dict(), model_name)\n",
    "print('model saved in', model_name)"
   ]
  },
  {
   "cell_type": "code",
   "execution_count": 17,
   "id": "5fcbfd68-78df-4228-8cf2-abd440effe1b",
   "metadata": {},
   "outputs": [
    {
     "data": {
      "text/plain": [
       "NeuralNet(\n",
       "  (flatten): Flatten(start_dim=1, end_dim=-1)\n",
       "  (linear_relu_stack): Sequential(\n",
       "    (0): Linear(in_features=784, out_features=512, bias=True)\n",
       "    (1): ReLU()\n",
       "    (2): Linear(in_features=512, out_features=512, bias=True)\n",
       "    (3): ReLU()\n",
       "    (4): Linear(in_features=512, out_features=10, bias=True)\n",
       "  )\n",
       ")"
      ]
     },
     "execution_count": 17,
     "metadata": {},
     "output_type": "execute_result"
    }
   ],
   "source": [
    "model = NeuralNet()\n",
    "model.load_state_dict(torch.load(model_name))\n",
    "model"
   ]
  },
  {
   "cell_type": "code",
   "execution_count": 20,
   "id": "a8c0c736-d3fd-4fe5-a607-19dd4c8b470d",
   "metadata": {},
   "outputs": [
    {
     "name": "stdout",
     "output_type": "stream",
     "text": [
      "Predicted: \"Ankle boot\", Actual: \"Ankle boot\"\n"
     ]
    }
   ],
   "source": [
    "classes = [\n",
    "    \"T-shirt/top\",\n",
    "    \"Trouser\",\n",
    "    \"Pullover\",\n",
    "    \"Dress\",\n",
    "    \"Coat\",\n",
    "    \"Sandal\",\n",
    "    \"Shirt\",\n",
    "    \"Sneaker\",\n",
    "    \"Bag\",\n",
    "    \"Ankle boot\",\n",
    "]\n",
    "\n",
    "model.eval()\n",
    "x, y = test_data[0][0], test_data[0][1]\n",
    "with torch.no_grad():\n",
    "    pred = model(x)\n",
    "    predicted, actual = classes[pred[0].argmax(0)], classes[y]\n",
    "    print(f'Predicted: \"{predicted}\", Actual: \"{actual}\"')\n"
   ]
  },
  {
   "cell_type": "code",
   "execution_count": 21,
   "id": "ab470156-c736-44a2-86de-93286048f0c7",
   "metadata": {},
   "outputs": [],
   "source": [
    "import matplotlib.pyplot as plt"
   ]
  },
  {
   "cell_type": "code",
   "execution_count": 24,
   "id": "be3ba730-f74c-41de-882d-ae48083e5951",
   "metadata": {},
   "outputs": [
    {
     "data": {
      "image/png": "[encoded data removed]",
      "text/plain": [
       "<Figure size 432x288 with 1 Axes>"
      ]
     },
     "metadata": {
      "needs_background": "light"
     },
     "output_type": "display_data"
    }
   ],
   "source": [
    "plt.imshow(x.squeeze());"
   ]
  },
  {
   "cell_type": "code",
   "execution_count": null,
   "id": "30530a78-4059-4761-ab44-6aca1c45b518",
   "metadata": {},
   "outputs": [],
   "source": []
  }
 ],
 "metadata": {
  "kernelspec": {
   "display_name": "Python 3 (ipykernel)",
   "language": "python",
   "name": "python3"
  },
  "language_info": {
   "codemirror_mode": {
    "name": "ipython",
    "version": 3
   },
   "file_extension": ".py",
   "mimetype": "text/x-python",
   "name": "python",
   "nbconvert_exporter": "python",
   "pygments_lexer": "ipython3",
   "version": "3.9.7"
  }
 },
 "nbformat": 4,
 "nbformat_minor": 5
}
